{
 "cells": [
  {
   "cell_type": "code",
   "execution_count": 1,
   "id": "9f35b6ff-18f2-4aa2-9005-c11710bf1f60",
   "metadata": {},
   "outputs": [],
   "source": [
    "# Combinatorial Average Motif (CAM) splice site scoring model. \n",
    "# Each individual, positional subset model conditions on two nucleotides and considers all other positions (long-range dependencies).\n",
    "# Most importantly, you then average over all two-nucleotide conditioned positional subset models to derive the overall CAM probability value.\n",
    "# The formula is shown below. CAM can be extended to 30+ nucleotides, but becomes slower due to positional subset growth rate (length choose 2).\n",
    "\n",
    "# Chris Burge, MIT, came up the model, I implemented and optimized the model.\n",
    "\n",
    "import pickle\n",
    "from tqdm import tqdm\n",
    "import matplotlib.pyplot as plt\n",
    "import numpy as np\n",
    "import random\n",
    "import time\n",
    "from IPython.display import display, Math\n"
   ]
  },
  {
   "cell_type": "code",
   "execution_count": 8,
   "id": "c49f9039-e062-42e2-b1c7-39d3429b9c9f",
   "metadata": {},
   "outputs": [
    {
     "data": {
      "text/latex": [
       "$\\displaystyle  P(S = x \\mid M_{1,3}) = f_{1,3}(x_1, x_3) \\prod_{k \\neq 1,3} \\frac{f_{1,3,k}(x_1, x_3, x_k)}{f_{1,3}(x_1, x_3)}$"
      ],
      "text/plain": [
       "<IPython.core.display.Math object>"
      ]
     },
     "metadata": {},
     "output_type": "display_data"
    },
    {
     "data": {
      "text/latex": [
       "$\\displaystyle P(S = x|\\mu2) = \\frac{1}{|\\mu2|} \\sum_{M_{i,j} \\epsilon \\mu2} P(S=x|M_{i,j})$"
      ],
      "text/plain": [
       "<IPython.core.display.Math object>"
      ]
     },
     "metadata": {},
     "output_type": "display_data"
    }
   ],
   "source": [
    "# Below is a succinct description of the model.\n",
    "\n",
    "# Let S be a random variable representing a sequence of length n we want to measure, and let x be a specific n-mer sequence.\n",
    "# M is a positional subset model conditioned on two nucleotide positions.\n",
    "# To calculate the probability of a positional subset model, its the frequency of the conditioned di-nucleotide, \n",
    "# then the product of all tri-nucleotide frequencies conditioned on the positional subset di-nucleotides.\n",
    "# Most importantly, the average of all positional subset models is the CAM model. Let u2 be the set of positional subset models\n",
    "# |u2| is the cardinality/size of the set.\n",
    "# Lastly, take the log2 ratio of foreground (splice sites) and background (deep intronic) probabilities.\n",
    "# Notably, one does not need to take the average of positional subset models. Ideally, one would measure model performance and adjust the weights via optimization.\n",
    "# I've done it before via cross-entropy loss and gradient descent, but I was not able to improve the model significantly in the short time I tried.\n",
    "\n",
    "display(Math(r'$$ P(S = x \\mid M_{1,3}) = f_{1,3}(x_1, x_3) \\prod_{k \\neq 1,3} \\frac{f_{1,3,k}(x_1, x_3, x_k)}{f_{1,3}(x_1, x_3)}$$'))\n",
    "display(Math(r'$$P(S = x|\\mu2) = \\frac{1}{|\\mu2|} \\sum_{M_{i,j} \\epsilon \\mu2} P(S=x|M_{i,j})$$'))"
   ]
  },
  {
   "cell_type": "code",
   "execution_count": 3,
   "id": "73604927-1994-4943-b482-2393fba2773f",
   "metadata": {},
   "outputs": [],
   "source": [
    "# Train-test split of intronic sequences.\n",
    "# Pull the sequences you want to train and test on.\n",
    "\n",
    "DataBase = '/Users/nrk/Desktop/PhD/Database/SpliceSites/'\n",
    "\n",
    "# 172k\n",
    "with open(DataBase + 'train3_true.txt') as f: positive_train = list([i.upper() for i in f.read().splitlines() if len(i) == 50])\n",
    "# 3.4m. A random subset of this will go into the test set, too large.\n",
    "with open(DataBase + 'train3_null.txt') as f: negative_train = list([i.upper() for i in f.read().splitlines() if len(i) == 50])\n",
    "# 12k\n",
    "with open(DataBase + 'test3_true.txt') as f: positive_test = list([i.upper() for i in f.read().splitlines() if len(i) == 50])\n",
    "# 240k\n",
    "with open(DataBase + 'test3_null.txt') as f: negative_test = list([i.upper() for i in f.read().splitlines() if len(i) == 50])"
   ]
  },
  {
   "cell_type": "code",
   "execution_count": 4,
   "id": "d6a45c55-b7b6-4422-8bbd-ce50e3c42cff",
   "metadata": {
    "tags": []
   },
   "outputs": [
    {
     "name": "stderr",
     "output_type": "stream",
     "text": [
      "10000it [00:00, 21902.06it/s]\n",
      "10000it [00:00, 20230.84it/s]\n",
      "100%|███████████████████████████████████████████| 23/23 [00:02<00:00,  7.73it/s]\n",
      "100%|███████████████████████████████████████████| 23/23 [00:02<00:00,  7.82it/s]\n"
     ]
    },
    {
     "data": {
      "text/plain": [
       "6.9019670486450195"
      ]
     },
     "execution_count": 4,
     "metadata": {},
     "output_type": "execute_result"
    }
   ],
   "source": [
    "# CAM training.\n",
    "# Create training sequence dataset array first, then create CAM arrays.\n",
    "\n",
    "start = time.time()\n",
    "\n",
    "def camv2_train(positive, negative, length):\n",
    "\n",
    "    training = [positive, negative]\n",
    "    \n",
    "    # Array shape = (Positive/Negative, samples, positions, 4 nt) \n",
    "    seq_array = np.zeros((2, len(training[0]+training[1]), length, 4), dtype = np.float64)\n",
    "    \n",
    "    # Subset of splice sites vs deep intronic sequence\n",
    "    for ind0, subset in enumerate(training):\n",
    "        # Sequences within that subset\n",
    "        for ind1, seq in tqdm(enumerate(subset)):\n",
    "            if len(seq) == length:\n",
    "                # One-hot encoded base per position for each sample\n",
    "                for ind2, nt in enumerate(seq):\n",
    "                    if nt == 'A':\n",
    "                        seq_array[ind0, ind1, ind2] += [1,0,0,0]\n",
    "                    elif nt == 'C':\n",
    "                        seq_array[ind0, ind1, ind2] += [0,1,0,0]\n",
    "                    elif nt == 'G':\n",
    "                        seq_array[ind0, ind1, ind2] += [0,0,1,0]\n",
    "                    elif nt == 'T':\n",
    "                        seq_array[ind0, ind1, ind2] += [0,0,0,1]\n",
    "\n",
    "    # Tri_array = conditional p(tri-nt|di_nt), di_array = p(di-nt). \n",
    "    tri_array = np.zeros((2, length, length, length, 4, 4, 4), dtype = np.float64)\n",
    "    di_array = np.zeros((2, length, length, 4, 4), dtype = np.float64)\n",
    "    \n",
    "    # Splice site vs deep intronic subset.\n",
    "    for subset, seq in enumerate(training):\n",
    "        # Position 1 in sequence.\n",
    "        for pos1 in tqdm(range(length)):\n",
    "            # Position 2 in sequence with no overlap with position 1.\n",
    "            for pos2 in range(length): #used to have pos1 +1\n",
    "                # 16 di-nt\n",
    "                for base1 in range(4):\n",
    "                    for base2 in range(4):\n",
    "                        if pos1 != pos2:\n",
    "                            # Given two positions and two observed nt, find the indices/samples that have that di-nt combination\n",
    "                            di_indices = np.where((seq_array[subset, :, pos1, base1] == 1) & (seq_array[subset, :, pos2, base2] == 1))[0] \n",
    "                            # Frequency of di-nt at those positions, adjusted with +1 for di-nt and +16 for total. \n",
    "                            di_array[subset, pos1, pos2, base1, base2] = (len(di_indices) + 1) / (len(seq) + 16)\n",
    "\n",
    "                            # All posible third positions conditioned on the first two nt.\n",
    "                            for pos3 in range(0, length):\n",
    "                                if pos3 != pos1 and pos3 != pos2:\n",
    "\n",
    "                                # Pseudocounts +1 to all 4 third nt, therefore +4 to corresponding di-nt.\n",
    "\n",
    "                                    tri_array[subset, pos1, pos2, pos3, base1, base2] = (seq_array[subset, di_indices, pos3].sum(0) + 1) / (len(di_indices)+4)\n",
    "\n",
    "    return seq_array, di_array, tri_array\n",
    "\n",
    "                                                                             \n",
    "# Should filter sequences by length before entering training to ensure zeros are created optimally.\n",
    "\n",
    "uni_array, di_array, tri_array = camv2_train([i[-23:] for i in random.sample(positive_train, 10000)], [i[-23:] for i in random.sample(negative_train, 10000)], 23)\n",
    "\n",
    "end = time.time()\n",
    "end-start"
   ]
  },
  {
   "cell_type": "code",
   "execution_count": 5,
   "id": "425fc848-de5f-42ac-a248-44ad99b56f1e",
   "metadata": {
    "tags": []
   },
   "outputs": [],
   "source": [
    "# Once the model is trained, this is how to score a sequence.\n",
    "\n",
    "def camv2(tests, length):\n",
    "    \n",
    "    master = []\n",
    "\n",
    "    def convert_nt(nt):\n",
    "        if nt == 'A':\n",
    "            base = 0\n",
    "        elif nt == 'C':\n",
    "            base = 1\n",
    "        elif nt == 'G':\n",
    "            base = 2\n",
    "        elif nt == 'T':\n",
    "            base = 3\n",
    "        return base\n",
    "                \n",
    "    for test in tqdm(tests):\n",
    "        \n",
    "        foreground = []\n",
    "        background= []\n",
    "        \n",
    "        for pos1 in range(0, length):\n",
    "\n",
    "            for pos2 in range(pos1 + 1, length):\n",
    "                \n",
    "                base1 = convert_nt(test[pos1])\n",
    "                base2 = convert_nt(test[pos2])\n",
    "                \n",
    "                # Summing all p(tri-nt) at any given two positions = p(di-nt) at those positions\n",
    "                # 4 possible tri-nt, when summed together you have the complete p(di-nt)\n",
    "                \n",
    "                # Index 0 = splice sites, index 1 = deep intronic\n",
    "                di = di_array[0, pos1, pos2, base1, base2] # Use sum() if single array contains tri/total instead of tri/di events\n",
    "                ran_di = di_array[1, pos1, pos2, base1, base2] #sum() look above\n",
    "                \n",
    "                # All third positioin possibilities conditioned on two positions.\n",
    "                # Tri-array can contain p(tri-nt)/p(di-nt) or p(tri-nt). If latter, must divide by p(di-nt).\n",
    "                # CURRENT: Tri-array = p(tri-nt)/p(di-nt), hence the separate di_array.\n",
    "                \n",
    "                for pos3 in range(0, length):\n",
    "                    \n",
    "                    if pos3 != pos1 and pos3 != pos2:\n",
    "                        \n",
    "                        base3 = convert_nt(test[pos3])\n",
    "                        tri = tri_array[0, pos1, pos2, pos3, base1, base2, base3]\n",
    "                        di *= tri #/di look above\n",
    "                        ran_tri = tri_array[1, pos1, pos2, pos3, base1, base2, base3]\n",
    "                        ran_di *= ran_tri #/ran_di look above\n",
    "                        \n",
    "                # After every 2 fixed positions, save the p(seq|fix di-nt).\n",
    "                foreground.append(di)\n",
    "                background.append(ran_di)\n",
    "                \n",
    "                \n",
    "        # All n choose 2 p(seq|fix di-nt), with MaxEnt scores and sequence.\n",
    "        \n",
    "        master.append(np.log2(np.mean(foreground)/np.mean(background)))\n",
    "\n",
    "\n",
    "    return master, foreground, background\n"
   ]
  },
  {
   "cell_type": "code",
   "execution_count": 6,
   "id": "a83fa952-b6db-4871-8e3a-563e599b4eb3",
   "metadata": {
    "tags": []
   },
   "outputs": [
    {
     "name": "stderr",
     "output_type": "stream",
     "text": [
      "100%|██████████████████████████████████████| 1000/1000 [00:02<00:00, 368.16it/s]\n",
      "100%|██████████████████████████████████████| 1000/1000 [00:02<00:00, 371.96it/s]\n"
     ]
    }
   ],
   "source": [
    "\n",
    "one = [i.upper()[-23:] for i in positive_test[:1000]]\n",
    "two = [i.upper()[-23:] for i in negative_test[:1000]]\n",
    "\n",
    "true, fore1, back1 = camv2(one, 23)\n",
    "false, fore2, back2 = camv2(two, 23)\n"
   ]
  },
  {
   "cell_type": "code",
   "execution_count": 7,
   "id": "1517890e-6869-47b1-ac7a-366e58dfd5bd",
   "metadata": {
    "tags": []
   },
   "outputs": [
    {
     "data": {
      "image/png": "[encoded data removed]",
      "text/plain": [
       "<Figure size 1000x800 with 2 Axes>"
      ]
     },
     "metadata": {},
     "output_type": "display_data"
    }
   ],
   "source": [
    "# This is an analysis of the mutual information content between any two positions.\n",
    "# Can substract background mutual information to see where foreground enhances or depletes information \n",
    "# Can also do KL-divergence between foreground and background sets to see how different di-nucleotide distributions are, I did not include this.\n",
    "\n",
    "singles = np.sum(uni_array[:,:,:], axis = 1) / 10000\n",
    "\n",
    "length = 23\n",
    "foreground = np.zeros((length,length))\n",
    "background = np.zeros((length,length))\n",
    "\n",
    "for pos1 in range(length):\n",
    "    for pos2 in range(length):\n",
    "        \n",
    "        if pos1 != pos2:\n",
    "            \n",
    "            temp = di_array[0, pos1, pos2].ravel() * np.log2(di_array[0, pos1, pos2].ravel() / np.outer(singles[0, pos1], singles[0, pos2]).ravel())\n",
    "            temp2 = di_array[1, pos1, pos2].ravel() * np.log2(di_array[1, pos1, pos2].ravel() / np.outer(singles[1, pos1], singles[1, pos2]).ravel())\n",
    "\n",
    "            foreground[pos1,pos2] = temp.sum()\n",
    "            background[pos1,pos2] = temp2.sum()\n",
    "                \n",
    "plt.figure(figsize=(10, 8))\n",
    "plt.imshow((foreground-background), cmap = 'cividis', origin = 'lower')\n",
    "plt.clim(-0.015,0.015)\n",
    "plt.colorbar()\n",
    "plt.yticks(np.arange(0,length,2), np.arange(-length+3,3,2))\n",
    "plt.xticks(np.arange(0,length,2), np.arange(-length+3,3,2))\n",
    "plt.xlabel('Position 2')\n",
    "plt.ylabel('Position 1')\n",
    "plt.title('Mutual Information of Di-Nucletides near 3SS')\n",
    "plt.show()"
   ]
  }
 ],
 "metadata": {
  "kernelspec": {
   "display_name": "Python 3 (ipykernel)",
   "language": "python",
   "name": "python3"
  },
  "language_info": {
   "codemirror_mode": {
    "name": "ipython",
    "version": 3
   },
   "file_extension": ".py",
   "mimetype": "text/x-python",
   "name": "python",
   "nbconvert_exporter": "python",
   "pygments_lexer": "ipython3",
   "version": "3.12.4"
  }
 },
 "nbformat": 4,
 "nbformat_minor": 5
}
